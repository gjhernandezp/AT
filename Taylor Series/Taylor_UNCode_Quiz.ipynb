{
  "nbformat": 4,
  "nbformat_minor": 0,
  "metadata": {
    "colab": {
      "name": "Taylor_UNCode_Quiz.ipynb",
      "provenance": [],
      "collapsed_sections": []
    },
    "kernelspec": {
      "name": "python3",
      "display_name": "Python 3"
    },
    "language_info": {
      "name": "python"
    }
  },
  "cells": [
    {
      "cell_type": "markdown",
      "metadata": {
        "id": "3vUhQTJdGE-8"
      },
      "source": [
        "# **Approximating exponential functions with Taylor series**\n",
        "\n",
        "\n",
        "On this task you're asked to approximate functions of the form $e^x$ with different numbers of terms.\n",
        "\n",
        "Return the minimun $n$ such that $n+1$-th term of the Taylor series for $e^x$ about $0$ (Maclaurin  series)  is in absolute value less than  $\\epsilon$.\n",
        "\n",
        "$$\\min_{n \\in \\mathbb{N}}\\left|\\frac{x^{n+1}}{(n+1)!}\\right| < \\epsilon$$\n",
        "\n",
        "and the aproximation of $e^x$ caculating the Taylor ploynomial of degree $n+1$ about $0$ for $x$\n",
        "\n",
        "$$e^x \\approx \\sum_{i=0}^{n+1} \\frac{x^{i}}{i!}$$\n",
        "\n"
      ]
    },
    {
      "cell_type": "markdown",
      "metadata": {
        "id": "PjiZC1byHqJu"
      },
      "source": [
        "---\n",
        "\n",
        "**Input:** $x$ real number used in the expression $e^x$ and $\\epsilon$ value of tolerance error.\n",
        "\n",
        "**Output:** $n$ number of necessary terms to get an appropiate approximation and $e\\_to\\_x$ the obtained estimation of the given function $e^x$ using the calculated $n$.\n",
        "\n",
        "---"
      ]
    },
    {
      "cell_type": "markdown",
      "metadata": {
        "id": "8K204X8vFJyi"
      },
      "source": [
        "---\n",
        "\n",
        "**Sample testcase**\n",
        "\n",
        "```python\n",
        "#run this sample textcase on a cell to help you validate your solution\n",
        "Taylor_e_to_x_nterm_less_eps(x=35,epsilon=10**(-20))\n",
        "#  --> Expected output: (132, 1586013452313431.2)\n",
        "```\n",
        "\n",
        "---"
      ]
    },
    {
      "cell_type": "markdown",
      "metadata": {
        "id": "DJ_bHorAF-Ip"
      },
      "source": [
        "**Solution**"
      ]
    },
    {
      "cell_type": "code",
      "metadata": {
        "id": "z5XnTHML__l6"
      },
      "source": [
        "# Retunrs Min n, |x^{n+1}/(n+1)!| < epsilon and ∑_{i=1}^{n+1}  x^i/i!|\n",
        "import math\n",
        "\n",
        "def Taylor_e_to_x_nterm_less_eps(x, epsilon):\n",
        "  \n",
        "  #Your code goes here\n",
        "  \n",
        "  n = 0\n",
        "  e_to_x = 0\n",
        "\n",
        "\n",
        "\n",
        "  return n, e_to_x #DO NOT change this line. Output will be read as a tuple."
      ],
      "execution_count": null,
      "outputs": []
    }
  ]
}