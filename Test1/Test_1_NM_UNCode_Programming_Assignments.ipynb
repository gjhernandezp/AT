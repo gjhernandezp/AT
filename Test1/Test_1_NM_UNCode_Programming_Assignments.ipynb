{
  "nbformat": 4,
  "nbformat_minor": 0,
  "metadata": {
    "colab": {
      "name": "Test_1_NM_UNCode_Programming_Assignments.ipynb",
      "provenance": [],
      "collapsed_sections": [],
      "authorship_tag": "ABX9TyNFTpPtqNR529ZREP9qxPT9",
      "include_colab_link": true
    },
    "kernelspec": {
      "name": "python3",
      "display_name": "Python 3"
    },
    "language_info": {
      "name": "python"
    }
  },
  "cells": [
    {
      "cell_type": "markdown",
      "metadata": {
        "id": "view-in-github",
        "colab_type": "text"
      },
      "source": [
        "<a href=\"https://colab.research.google.com/github/gjhernandezp/AT/blob/master/Test1/Test_1_NM_UNCode_Programming_Assignments.ipynb\" target=\"_parent\"><img src=\"https://colab.research.google.com/assets/colab-badge.svg\" alt=\"Open In Colab\"/></a>"
      ]
    },
    {
      "cell_type": "markdown",
      "metadata": {
        "id": "GfjJs2zaFLfR"
      },
      "source": [
        "# **Numerical Methods Test 1 UNCode Programming Assignments**\n",
        "\n",
        "\n"
      ]
    },
    {
      "cell_type": "markdown",
      "metadata": {
        "id": "zNKJSMViFOmX"
      },
      "source": [
        "#**|||||||||||||||||||||||||||||||||||||||||||||||||||||||||||||||||||||||||||||||||||||||||||||||||||||||||||||||||||||||||||||||||||||||||||||**#"
      ]
    },
    {
      "cell_type": "markdown",
      "source": [
        "#**1. Approximating the exponential function $e^x$ with its Taylor series about $0$** \n",
        "\n",
        "In this task you're asked to find the first (min)  $n$ such that $n+1$-th term of the Taylor series for $e^x$ about $0$ (Maclaurin  series) is in absolute value less than $\\epsilon$ and approximate the exponential funtion $e^x$ with  $n+1$ terms.\n",
        "\n",
        "**Taylor series of $e^x$ about $0$ (Maclaurin  series)**\n",
        "\n",
        "$$e^x = \\sum_{i=0}^{\\infty} \\frac{x^{i}}{i!}$$\n",
        "\n",
        "**Find $n$**\n",
        "\n",
        "$$\\min_{n \\in \\mathbb{N}}\\left|\\frac{x^{n+1}}{(n+1)!}\\right| < \\epsilon$$\n",
        "\n",
        "**Approximate $e^x$**\n",
        "\n",
        "$$e^x \\approx \\sum_{i=0}^{n+1} \\frac{x^{i}}{i!}$$\n",
        "\n",
        "\n",
        "**Correctness and efficiency**\n",
        "The solution should work correctly for negative $x$ and in $\\Theta(n)$ FLOPs."
      ],
      "metadata": {
        "id": "HyrWN3-ydzPC"
      }
    },
    {
      "cell_type": "markdown",
      "source": [
        "---\n",
        "\n",
        "###**Problem Description**\n",
        "\n",
        "**Task:** Given $x$ and $\\epsilon$ float numbers retrun the first (min) $n$ such that $n+1$-th term of the Taylor series for $e^x$ about $0$ (Maclaurin  series) is in absolute value less than $\\epsilon$ and approximate the logarithm funtion $e^x$ with $n+1$ terms.\n",
        "\n",
        "---\n",
        "\n",
        "**Input Format:** $x$  and $\\epsilon$ float numbers.\n",
        "\n",
        "**Constraints:** $-700< x < 700 $ and $0< \\epsilon < 1 $.\n",
        "\n",
        "**Output Format:** the first (min) $n$ such that $n+1$-th term of the Taylor series for $e^x$ about $0$ (Maclaurin  series) is in absolute value less than $\\epsilon$ and the approximation $e^x$ with  $n+1$ terms.\n",
        "\n",
        "---"
      ],
      "metadata": {
        "id": "aplJxB4LfZkB"
      }
    },
    {
      "cell_type": "markdown",
      "source": [
        "**Sample testcase**\n",
        "\n",
        "```python\n",
        "#run this sample textcase on a cell to help you validate your solution\n",
        "\n",
        "Taylor_e_to_x_nterm_plus_one_less_epsilon(x=35,epsilon=10**(-20))\n",
        "\n",
        "#  --> Expected output: (132, 1586013452313431.2)\n",
        "\n",
        "Taylor_e_to_x_nterm_plus_one_less_epsilon(x=35,epsilon=10**(-20))\n",
        "\n",
        "#  --> Expected output: (132, 6.305116760146987e-16)\n",
        "```\n",
        "\n",
        "---"
      ],
      "metadata": {
        "id": "JINi6iHgfsNh"
      }
    },
    {
      "cell_type": "markdown",
      "source": [
        "**Solution**"
      ],
      "metadata": {
        "id": "dRtcIKktgSw5"
      }
    },
    {
      "cell_type": "code",
      "source": [
        "# Retunrs Min n, |x^{n+1}/(n+1)!| < epsilon and ∑_{i=1}^{n+1}  x^i/i!\n",
        "import math\n",
        "\n",
        "def Taylor_e_to_x_nterm_plus_one_less_epsilon(x, epsilon): \n",
        "\n",
        "  #Your code goes here\n",
        "\n",
        "  return n,e_to_x  #DO NOT change this line. Output will be read as a tuple.."
      ],
      "metadata": {
        "id": "lro07AIlgZIm"
      },
      "execution_count": null,
      "outputs": []
    },
    {
      "cell_type": "markdown",
      "source": [
        "#**|||||||||||||||||||||||||||||||||||||||||||||||||||||||||||||||||||||||||||||||||||||||||||||||||||||||||||||||||||||||||||||||||||||||||||||**#"
      ],
      "metadata": {
        "id": "8nNGCx6WfKJK"
      }
    },
    {
      "cell_type": "markdown",
      "source": [
        "#**2. Approximating the logarithm funtion $\\ln(1+x)$ about $0$ with Taylor series** \n",
        "\n",
        "In this task you're asked to find the first (min)  $n$ such that $n+1$-th term of the Taylor series for $\\ln(1+x)$ about $0$ (Maclaurin  series) is in absolute value less than $\\epsilon$ and approximate the logarithm funtion $\\ln(1+x)$ with  $n+1$ terms.\n",
        "\n",
        "**Taylor series of $\\ln(1+x)$ about $0$ (Maclaurin  series)**\n",
        "\n",
        "$$ \\ln(1+x) = \\sum_{n=1}^{\\infty} (-1)^{n-1} \\frac{x^{n}}{n},\\hspace{1cm} 0< x \\le 1 $$\n",
        "\n",
        "**Find $n$**\n",
        "\n",
        "$$\\min_{n \\in \\mathbb{N}}\\left|(-1)^{n} \\frac{x^{n+1}}{(n+1)}\\right| < \\epsilon$$\n",
        "\n",
        "**Approximate $\\ln(1+x)$**\n",
        "\n",
        "$$\\ln(1+x) \\approx \\sum_{i=1}^{n+1} (-1)^{n-1} \\frac{x^{n}}{n}$$\n",
        "\n",
        "**Correctness and efficiency**\n",
        "The solution should work correctly for negative $x$ and in $\\Theta(n)$ FLOPs."
      ],
      "metadata": {
        "id": "o9UHkUVbYNSr"
      }
    },
    {
      "cell_type": "markdown",
      "metadata": {
        "id": "IGYQkrZNFjvA"
      },
      "source": [
        "---\n",
        "\n",
        "###**Problem Description**\n",
        "\n",
        "**Task:** Given $x$ and $\\epsilon$ float numbers retrun the first (min) $n$ such that $n+1$-th term of the Taylor series for $\\ln(1+x)$ about $0$ (Maclaurin  series) is in absolute value less than $\\epsilon$ and approximate the logarithm funtion $\\ln(1+x)$ with $n+1$ terms.\n",
        "\n",
        "---\n",
        "\n",
        "**Input Format:** $x$  and $\\epsilon$ float numbers.\n",
        "\n",
        "**Constraints:** $0< x \\le 1 $ and $0< \\epsilon < 1 $.\n",
        "\n",
        "**Output Format:** the first (min) $n$ such that $n+1$-th term of the Taylor series for $\\ln(1+x)$ about $0$ (Maclaurin  series) is in absolute value less than $\\epsilon$ and the approximation  $\\ln(1+x)$ with $n+1$ terms.\n",
        "\n",
        "---\n",
        "\n",
        "\n",
        "\n",
        "\n",
        "\n",
        "\n"
      ]
    },
    {
      "cell_type": "markdown",
      "metadata": {
        "id": "oYxV9WOxFxhY"
      },
      "source": [
        "\n",
        "**Sample testcase**\n",
        "\n",
        "```python\n",
        "#run this sample testcase on a cell to help you validate your solution\n",
        "\n",
        "Taylor_ln_x_plus_one_nterm_plus_one_less_epsilon(x=0.1,epsilon=10**(-10))\n",
        "\n",
        "#  --> Expected output: (10, 0.09531017980349207)\n",
        "\n",
        "Taylor_ln_x_plus_one_nterm_plus_one_less_epsilon(x=-0.2,epsilon=10**(-10))\n",
        "\n",
        "#  --> Expected output: (13, -0.22314355129981772)\n",
        "\n",
        "\n",
        "```\n",
        "\n",
        "---"
      ]
    },
    {
      "cell_type": "markdown",
      "metadata": {
        "id": "xyvtuOz4F1hY"
      },
      "source": [
        "**Solution**"
      ]
    },
    {
      "cell_type": "code",
      "metadata": {
        "id": "vOCXUyDAF7B8"
      },
      "source": [
        "#Do not change this function's name, parameters or output format. It will be used in automatic grading.\n",
        "\n",
        "# Min n, |(-1)^{n} x^{n+1}/(n+1)| < epsilon and  ∑_{i=1}^{n+1} (-1)^{i-1} x^i/i\n",
        "\n",
        "import math\n",
        "\n",
        "def Taylor_ln_x_plus_one_nterm_plus_one_less_epsilon(x, epsilon):\n",
        "  \n",
        "  n = 1\n",
        "  ln_x_plus_one = 0\n",
        "\n",
        "  #Your code goes here\n",
        "  \n",
        "  return n, round(ln_x_plus_one,4)"
      ],
      "execution_count": null,
      "outputs": []
    }
  ]
}